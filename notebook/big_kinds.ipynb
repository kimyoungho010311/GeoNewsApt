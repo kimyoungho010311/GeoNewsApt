{
 "cells": [
  {
   "cell_type": "markdown",
   "id": "828d64c4-0eb6-495d-960a-8561696175e6",
   "metadata": {},
   "source": [
    "# BigKinds에서 제공한 엑셀파일 DB에 넣는 코드"
   ]
  },
  {
   "cell_type": "code",
   "execution_count": 1,
   "id": "b5130a93-d178-4ddb-9afe-c39723ef62ee",
   "metadata": {},
   "outputs": [],
   "source": [
    "import pandas as pd\n",
    "import glob\n",
    "import os\n",
    "import psycopg2"
   ]
  },
  {
   "cell_type": "code",
   "execution_count": 2,
   "id": "b5a2cc2f-98b9-4784-8dd0-55b4c02ddf07",
   "metadata": {},
   "outputs": [],
   "source": [
    "use_col = ['일자','언론사','본문','URL']\n",
    "col_rename = ['date','publisher','content','url']"
   ]
  },
  {
   "cell_type": "code",
   "execution_count": 3,
   "id": "3d9a191f-7737-490f-a7e5-761030e4fec9",
   "metadata": {
    "scrolled": true
   },
   "outputs": [],
   "source": [
    "\n",
    "# Excel 파일이 있는 디렉토리 경로\n",
    "folder_path = \"/Users/kim-youngho/git/GeoNewsApt/data/news/bigkinds\"\n",
    "\n",
    "# 폴더 내 모든 .xlsx 파일 경로 리스트업\n",
    "xlsx_files = [os.path.join(folder_path, file)\n",
    "              for file in os.listdir(folder_path)\n",
    "              if file.endswith('.xlsx')]"
   ]
  },
  {
   "cell_type": "code",
   "execution_count": 4,
   "id": "b40a0ea5-4771-45d3-b55b-5605850b4da2",
   "metadata": {},
   "outputs": [
    {
     "name": "stderr",
     "output_type": "stream",
     "text": [
      "/Users/kim-youngho/apt_price/lib/python3.11/site-packages/openpyxl/styles/stylesheet.py:237: UserWarning: Workbook contains no default style, apply openpyxl's default\n",
      "  warn(\"Workbook contains no default style, apply openpyxl's default\")\n",
      "/Users/kim-youngho/apt_price/lib/python3.11/site-packages/openpyxl/styles/stylesheet.py:237: UserWarning: Workbook contains no default style, apply openpyxl's default\n",
      "  warn(\"Workbook contains no default style, apply openpyxl's default\")\n",
      "/Users/kim-youngho/apt_price/lib/python3.11/site-packages/openpyxl/styles/stylesheet.py:237: UserWarning: Workbook contains no default style, apply openpyxl's default\n",
      "  warn(\"Workbook contains no default style, apply openpyxl's default\")\n",
      "/Users/kim-youngho/apt_price/lib/python3.11/site-packages/openpyxl/styles/stylesheet.py:237: UserWarning: Workbook contains no default style, apply openpyxl's default\n",
      "  warn(\"Workbook contains no default style, apply openpyxl's default\")\n",
      "/Users/kim-youngho/apt_price/lib/python3.11/site-packages/openpyxl/styles/stylesheet.py:237: UserWarning: Workbook contains no default style, apply openpyxl's default\n",
      "  warn(\"Workbook contains no default style, apply openpyxl's default\")\n",
      "/Users/kim-youngho/apt_price/lib/python3.11/site-packages/openpyxl/styles/stylesheet.py:237: UserWarning: Workbook contains no default style, apply openpyxl's default\n",
      "  warn(\"Workbook contains no default style, apply openpyxl's default\")\n"
     ]
    }
   ],
   "source": [
    "# 파일들을 DataFrame으로 읽어서 리스트에 저장\n",
    "df_list = [pd.read_excel(file) for file in xlsx_files]"
   ]
  },
  {
   "cell_type": "code",
   "execution_count": 5,
   "id": "8c433a60-1a26-4fc5-b9c2-b043667aa691",
   "metadata": {},
   "outputs": [],
   "source": [
    "# 하나의 DataFrame으로 병합\n",
    "df = pd.concat(df_list, ignore_index=True)"
   ]
  },
  {
   "cell_type": "code",
   "execution_count": 6,
   "id": "6d5ba020-a879-433d-b6f6-fff928ab94bc",
   "metadata": {},
   "outputs": [],
   "source": [
    "df = df[use_col]"
   ]
  },
  {
   "cell_type": "code",
   "execution_count": 7,
   "id": "4f59b1bd-34cc-4627-8df1-c5d5b209c815",
   "metadata": {},
   "outputs": [],
   "source": [
    "df.columns = col_rename"
   ]
  },
  {
   "cell_type": "code",
   "execution_count": 8,
   "id": "f0cd5863-a50b-4f03-8b7b-476798c6ffee",
   "metadata": {},
   "outputs": [],
   "source": [
    "df['date'] = pd.to_datetime(df['date'], format='%Y%m%d')"
   ]
  },
  {
   "cell_type": "code",
   "execution_count": 9,
   "id": "586f31f3-8b95-4d8d-b2b7-a602cac4020b",
   "metadata": {},
   "outputs": [
    {
     "data": {
      "text/html": [
       "<div>\n",
       "<style scoped>\n",
       "    .dataframe tbody tr th:only-of-type {\n",
       "        vertical-align: middle;\n",
       "    }\n",
       "\n",
       "    .dataframe tbody tr th {\n",
       "        vertical-align: top;\n",
       "    }\n",
       "\n",
       "    .dataframe thead th {\n",
       "        text-align: right;\n",
       "    }\n",
       "</style>\n",
       "<table border=\"1\" class=\"dataframe\">\n",
       "  <thead>\n",
       "    <tr style=\"text-align: right;\">\n",
       "      <th></th>\n",
       "      <th>date</th>\n",
       "      <th>publisher</th>\n",
       "      <th>content</th>\n",
       "      <th>url</th>\n",
       "    </tr>\n",
       "  </thead>\n",
       "  <tbody>\n",
       "    <tr>\n",
       "      <th>0</th>\n",
       "      <td>2025-08-19</td>\n",
       "      <td>한국경제</td>\n",
       "      <td>이 기사는 08월 19일 14:23 마켓인사이트에 게재된 기사입니다. \\n \\n \\...</td>\n",
       "      <td>https://www.hankyung.com/article/202508174248r</td>\n",
       "    </tr>\n",
       "    <tr>\n",
       "      <th>1</th>\n",
       "      <td>2025-08-19</td>\n",
       "      <td>한국경제</td>\n",
       "      <td>이 기사는 08월 19일 11:31 마켓인사이트에 게재된 기사입니다. \\n \\n \\...</td>\n",
       "      <td>https://www.hankyung.com/article/202508197898r</td>\n",
       "    </tr>\n",
       "    <tr>\n",
       "      <th>2</th>\n",
       "      <td>2025-08-19</td>\n",
       "      <td>한국경제</td>\n",
       "      <td>이 기사는 08월 19일 17:14 마켓인사이트에 게재된 기사입니다. \\n \\n \\...</td>\n",
       "      <td>https://www.hankyung.com/article/202508198739r</td>\n",
       "    </tr>\n",
       "    <tr>\n",
       "      <th>3</th>\n",
       "      <td>2025-08-19</td>\n",
       "      <td>한국경제</td>\n",
       "      <td>이 기사는 08월 19일 15:42 마켓인사이트에 게재된 기사입니다. \\n \\n \\...</td>\n",
       "      <td>https://www.hankyung.com/article/202508186828r</td>\n",
       "    </tr>\n",
       "    <tr>\n",
       "      <th>4</th>\n",
       "      <td>2025-08-19</td>\n",
       "      <td>한국경제</td>\n",
       "      <td>이 기사는 08월 19일 11:38 마켓인사이트에 게재된 기사입니다. \\n \\n \\...</td>\n",
       "      <td>https://www.hankyung.com/article/202508185747r</td>\n",
       "    </tr>\n",
       "  </tbody>\n",
       "</table>\n",
       "</div>"
      ],
      "text/plain": [
       "        date publisher                                            content  \\\n",
       "0 2025-08-19      한국경제  이 기사는 08월 19일 14:23 마켓인사이트에 게재된 기사입니다. \\n \\n \\...   \n",
       "1 2025-08-19      한국경제  이 기사는 08월 19일 11:31 마켓인사이트에 게재된 기사입니다. \\n \\n \\...   \n",
       "2 2025-08-19      한국경제  이 기사는 08월 19일 17:14 마켓인사이트에 게재된 기사입니다. \\n \\n \\...   \n",
       "3 2025-08-19      한국경제  이 기사는 08월 19일 15:42 마켓인사이트에 게재된 기사입니다. \\n \\n \\...   \n",
       "4 2025-08-19      한국경제  이 기사는 08월 19일 11:38 마켓인사이트에 게재된 기사입니다. \\n \\n \\...   \n",
       "\n",
       "                                              url  \n",
       "0  https://www.hankyung.com/article/202508174248r  \n",
       "1  https://www.hankyung.com/article/202508197898r  \n",
       "2  https://www.hankyung.com/article/202508198739r  \n",
       "3  https://www.hankyung.com/article/202508186828r  \n",
       "4  https://www.hankyung.com/article/202508185747r  "
      ]
     },
     "execution_count": 9,
     "metadata": {},
     "output_type": "execute_result"
    }
   ],
   "source": [
    "df.head()"
   ]
  },
  {
   "cell_type": "code",
   "execution_count": 10,
   "id": "0e9edc57-9b62-49c9-ba57-f812dee11ea7",
   "metadata": {},
   "outputs": [
    {
     "data": {
      "text/plain": [
       "<DatetimeArray>\n",
       "['2025-08-19 00:00:00', '2025-08-18 00:00:00', '2025-08-17 00:00:00',\n",
       " '2025-08-16 00:00:00', '2025-08-15 00:00:00', '2025-08-14 00:00:00',\n",
       " '2025-08-13 00:00:00', '2025-08-12 00:00:00', '2025-08-11 00:00:00',\n",
       " '2025-08-10 00:00:00',\n",
       " ...\n",
       " '2020-07-19 00:00:00', '2020-07-18 00:00:00', '2020-07-17 00:00:00',\n",
       " '2020-07-16 00:00:00', '2020-07-15 00:00:00', '2020-07-14 00:00:00',\n",
       " '2020-07-13 00:00:00', '2020-07-12 00:00:00', '2020-07-11 00:00:00',\n",
       " '2020-07-10 00:00:00']\n",
       "Length: 1835, dtype: datetime64[ns]"
      ]
     },
     "execution_count": 10,
     "metadata": {},
     "output_type": "execute_result"
    }
   ],
   "source": [
    "df.date.unique()"
   ]
  },
  {
   "cell_type": "code",
   "execution_count": 11,
   "id": "2f7261b8-7335-4d79-a533-147a90d358a4",
   "metadata": {},
   "outputs": [
    {
     "data": {
      "text/plain": [
       "'이 기사는 08월 19일 14:23 마켓인사이트에 게재된 기사입니다. \\n \\n \\n \\nNH투자증권이 올 상반기 국내 주요 증권사 중 투자은행(IB) 사업 실적을 가장 가파르게 끌어올렸다. 정통 IB 사업 강화를 천명한 메리츠증권도 반기 IB 순영업수익 2000억원 문턱을 넘어서며 전통의 강호 한국투자증권과 KB증권을 위협하는 존재로 성장했다. 반면 미래에셋..'"
      ]
     },
     "execution_count": 11,
     "metadata": {},
     "output_type": "execute_result"
    }
   ],
   "source": [
    "df[df.publisher == '한국경제'].content[0]"
   ]
  },
  {
   "cell_type": "markdown",
   "id": "433d1eb7-1d54-4c65-8b50-551605782e4b",
   "metadata": {},
   "source": [
    "## 디비 접속"
   ]
  },
  {
   "cell_type": "code",
   "execution_count": 12,
   "id": "0d7d4801-7e0e-4789-b6d4-e437d08c0841",
   "metadata": {},
   "outputs": [],
   "source": [
    "\n",
    "conn = psycopg2.connect(\n",
    "    host=\"127.0.0.1\",\n",
    "    port=5432,\n",
    "    user=\"postgres\",\n",
    "    password=\"2464\",\n",
    "    dbname=\"GeoNewsApt\"\n",
    ")\n",
    "cur = conn.cursor()"
   ]
  },
  {
   "cell_type": "code",
   "execution_count": 13,
   "id": "d7da5dfc-240e-44a0-9b58-7dd331a0d6b0",
   "metadata": {},
   "outputs": [
    {
     "data": {
      "text/plain": [
       "Index(['date', 'publisher', 'content', 'url'], dtype='object')"
      ]
     },
     "execution_count": 13,
     "metadata": {},
     "output_type": "execute_result"
    }
   ],
   "source": [
    "df.columns"
   ]
  },
  {
   "cell_type": "code",
   "execution_count": 14,
   "id": "20febbd9-3c82-4ec7-b944-72ef215a1e63",
   "metadata": {},
   "outputs": [],
   "source": [
    "insert_sql = \"\"\"\n",
    "INSERT INTO news (date, publisher, content, url) \n",
    "VALUES (%s, %s, %s, %s)\n",
    "\"\"\""
   ]
  },
  {
   "cell_type": "code",
   "execution_count": 15,
   "id": "61cf934b-0566-417b-b8c3-1a2451e69b3f",
   "metadata": {},
   "outputs": [],
   "source": [
    "for _, row in df.iterrows():\n",
    "    date = row['date']\n",
    "    publisher = row['publisher']\n",
    "    content = row['content']\n",
    "    url = row['url']\n",
    "    cur.execute(insert_sql, (date, publisher, content, url))\n",
    "\n",
    "conn.commit()\n",
    "cur.close()\n",
    "conn.close()"
   ]
  },
  {
   "cell_type": "code",
   "execution_count": null,
   "id": "3c819987-7438-424c-8fbc-9b20c19951a4",
   "metadata": {},
   "outputs": [],
   "source": []
  }
 ],
 "metadata": {
  "kernelspec": {
   "display_name": "Python 3 (ipykernel)",
   "language": "python",
   "name": "python3"
  },
  "language_info": {
   "codemirror_mode": {
    "name": "ipython",
    "version": 3
   },
   "file_extension": ".py",
   "mimetype": "text/x-python",
   "name": "python",
   "nbconvert_exporter": "python",
   "pygments_lexer": "ipython3",
   "version": "3.11.13"
  }
 },
 "nbformat": 4,
 "nbformat_minor": 5
}
