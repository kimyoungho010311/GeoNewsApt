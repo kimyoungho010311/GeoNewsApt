{
 "cells": [
  {
   "cell_type": "code",
   "execution_count": 28,
   "id": "2bc53169-ba60-4be2-ae39-db9864f369b1",
   "metadata": {},
   "outputs": [],
   "source": [
    "from selenium import webdriver\n",
    "from selenium.webdriver.chrome.service import Service\n",
    "from selenium.webdriver.chrome.options import Options\n",
    "from selenium.webdriver.common.by import By\n",
    "from selenium.webdriver.support.ui import WebDriverWait\n",
    "from selenium.common.exceptions import (\n",
    "    NoSuchElementException,\n",
    "    TimeoutException,\n",
    "    StaleElementReferenceException,\n",
    "    WebDriverException,\n",
    "    ElementClickInterceptedException,\n",
    ")\n",
    "from datetime import datetime, timedelta \n",
    "import time, re\n",
    "import pandas as pd"
   ]
  },
  {
   "cell_type": "code",
   "execution_count": 29,
   "id": "77dea4b4-b89d-427e-973a-1c8033d9e6bb",
   "metadata": {},
   "outputs": [],
   "source": [
    "\n",
    "#MAX_PAGE = int(Variable.get(\"MAX_PAGE\"))\n",
    "MAX_PAGE = 3\n",
    "DRIVER_PATH = \"/Users/kim-youngho/git/GeoNewsApt/notebook/chromedriver-mac-arm64/chromedriver\"\n",
    "# 오늘 날짜 문자열 \"YYYYMMDD\"\n",
    "today_str = datetime.today().strftime(\"%Y%m%d\")\n"
   ]
  },
  {
   "cell_type": "code",
   "execution_count": 30,
   "id": "dc1834cb-ac50-41b9-bcf7-9f9eb9f17225",
   "metadata": {},
   "outputs": [],
   "source": [
    "options = Options()\n",
    "#options.add_argument(\"--headless\")\n",
    "options.add_argument(\"--disable-gpu\")\n",
    "options.add_argument(\"--no-sandbox\")\n",
    "\n",
    "try:\n",
    "    service = Service(executable_path=DRIVER_PATH)\n",
    "    driver = webdriver.Chrome(service=service, options=options)\n",
    "    wait = WebDriverWait(driver, 5)\n",
    "except WebDriverException as e:\n",
    "    print(f\"[FATAL] Failed to initialize WebDriver: {e}\")\n",
    "\n",
    "article_links = set()\n",
    "cutoff_date = 20200901  # 기준 날짜"
   ]
  },
  {
   "cell_type": "code",
   "execution_count": 31,
   "id": "f737264b-bf70-436d-90ea-904d93a246af",
   "metadata": {},
   "outputs": [
    {
     "name": "stdout",
     "output_type": "stream",
     "text": [
      " Visiting page 1 -> https://www.donga.com/news/Economy/RE?p=1&prod=news&ymd=&m=\n",
      " Visiting page 2 -> https://www.donga.com/news/Economy/RE?p=21&prod=news&ymd=&m=\n",
      " Visiting page 3 -> https://www.donga.com/news/Economy/RE?p=41&prod=news&ymd=&m=\n"
     ]
    }
   ],
   "source": [
    "# 페이지 순회\n",
    "for page in range(1, MAX_PAGE + 1):\n",
    "    offset = (page - 1) * 20 + 1\n",
    "    url = f\"https://www.donga.com/news/Economy/RE?p={offset}&prod=news&ymd=&m=\"\n",
    "    try:\n",
    "        driver.get(url)\n",
    "        print(f\" Visiting page {page} -> {url}\")\n",
    "        time.sleep(2)\n",
    "\n",
    "        links = driver.find_elements(By.CSS_SELECTOR, \"a\")\n",
    "        for link in links:\n",
    "            href = link.get_attribute(\"href\")\n",
    "            if href and \"https://www.donga.com/news/Economy/article/all/\" in href:\n",
    "                match = re.search(r'/all/(\\d{8})/', href)\n",
    "                if match:\n",
    "                    article_date = int(match.group(1))\n",
    "                    if article_date >= cutoff_date:\n",
    "                        article_links.add(href)\n",
    "\n",
    "    except Exception as e:\n",
    "        print(f\" Failed to process page {page}: {e}\")"
   ]
  },
  {
   "cell_type": "code",
   "execution_count": 32,
   "id": "05a30e85-7bba-41d8-be7b-917b5f4e5197",
   "metadata": {},
   "outputs": [
    {
     "data": {
      "text/plain": [
       "{'https://www.donga.com/news/Economy/article/all/20250818/132202873/1',\n",
       " 'https://www.donga.com/news/Economy/article/all/20250818/132203123/1',\n",
       " 'https://www.donga.com/news/Economy/article/all/20250818/132204902/1',\n",
       " 'https://www.donga.com/news/Economy/article/all/20250818/132205327/1',\n",
       " 'https://www.donga.com/news/Economy/article/all/20250818/132207371/2',\n",
       " 'https://www.donga.com/news/Economy/article/all/20250819/132208805/1',\n",
       " 'https://www.donga.com/news/Economy/article/all/20250819/132209922/2',\n",
       " 'https://www.donga.com/news/Economy/article/all/20250819/132210317/1',\n",
       " 'https://www.donga.com/news/Economy/article/all/20250819/132215229/1',\n",
       " 'https://www.donga.com/news/Economy/article/all/20250820/132217624/1',\n",
       " 'https://www.donga.com/news/Economy/article/all/20250820/132220731/1',\n",
       " 'https://www.donga.com/news/Economy/article/all/20250820/132222844/1',\n",
       " 'https://www.donga.com/news/Economy/article/all/20250821/132225779/1',\n",
       " 'https://www.donga.com/news/Economy/article/all/20250821/132225878/1',\n",
       " 'https://www.donga.com/news/Economy/article/all/20250821/132227083/1',\n",
       " 'https://www.donga.com/news/Economy/article/all/20250821/132227742/1',\n",
       " 'https://www.donga.com/news/Economy/article/all/20250821/132227773/1',\n",
       " 'https://www.donga.com/news/Economy/article/all/20250821/132228238/1',\n",
       " 'https://www.donga.com/news/Economy/article/all/20250821/132228395/1',\n",
       " 'https://www.donga.com/news/Economy/article/all/20250821/132229108/1',\n",
       " 'https://www.donga.com/news/Economy/article/all/20250821/132230615/2',\n",
       " 'https://www.donga.com/news/Economy/article/all/20250821/132230631/2',\n",
       " 'https://www.donga.com/news/Economy/article/all/20250821/132230645/2',\n",
       " 'https://www.donga.com/news/Economy/article/all/20250821/132230649/2',\n",
       " 'https://www.donga.com/news/Economy/article/all/20250822/132231703/2',\n",
       " 'https://www.donga.com/news/Economy/article/all/20250822/132232233/2',\n",
       " 'https://www.donga.com/news/Economy/article/all/20250822/132232928/1',\n",
       " 'https://www.donga.com/news/Economy/article/all/20250822/132233180/1',\n",
       " 'https://www.donga.com/news/Economy/article/all/20250822/132233667/1',\n",
       " 'https://www.donga.com/news/Economy/article/all/20250822/132233793/1',\n",
       " 'https://www.donga.com/news/Economy/article/all/20250822/132233996/1',\n",
       " 'https://www.donga.com/news/Economy/article/all/20250822/132235495/1',\n",
       " 'https://www.donga.com/news/Economy/article/all/20250822/132237119/2',\n",
       " 'https://www.donga.com/news/Economy/article/all/20250822/132237124/2',\n",
       " 'https://www.donga.com/news/Economy/article/all/20250824/132235683/2',\n",
       " 'https://www.donga.com/news/Economy/article/all/20250824/132235685/2',\n",
       " 'https://www.donga.com/news/Economy/article/all/20250824/132235687/2',\n",
       " 'https://www.donga.com/news/Economy/article/all/20250824/132235690/2',\n",
       " 'https://www.donga.com/news/Economy/article/all/20250824/132241385/1',\n",
       " 'https://www.donga.com/news/Economy/article/all/20250824/132243130/1',\n",
       " 'https://www.donga.com/news/Economy/article/all/20250824/132244237/2',\n",
       " 'https://www.donga.com/news/Economy/article/all/20250824/132244246/2',\n",
       " 'https://www.donga.com/news/Economy/article/all/20250825/132247900/1',\n",
       " 'https://www.donga.com/news/Economy/article/all/20250825/132249513/1',\n",
       " 'https://www.donga.com/news/Economy/article/all/20250825/132250429/1',\n",
       " 'https://www.donga.com/news/Economy/article/all/20250825/132251221/2',\n",
       " 'https://www.donga.com/news/Economy/article/all/20250825/132252257/2',\n",
       " 'https://www.donga.com/news/Economy/article/all/20250826/132255993/1',\n",
       " 'https://www.donga.com/news/Economy/article/all/20250826/132256039/1',\n",
       " 'https://www.donga.com/news/Economy/article/all/20250826/132256217/1',\n",
       " 'https://www.donga.com/news/Economy/article/all/20250826/132257449/1',\n",
       " 'https://www.donga.com/news/Economy/article/all/20250826/132257764/1',\n",
       " 'https://www.donga.com/news/Economy/article/all/20250826/132258723/1',\n",
       " 'https://www.donga.com/news/Economy/article/all/20250826/132260635/2',\n",
       " 'https://www.donga.com/news/Economy/article/all/20250827/132263874/1'}"
      ]
     },
     "execution_count": 32,
     "metadata": {},
     "output_type": "execute_result"
    }
   ],
   "source": [
    "article_links"
   ]
  },
  {
   "cell_type": "code",
   "execution_count": 33,
   "id": "449fe430-5979-4b6e-8241-0d4dfc0a48c6",
   "metadata": {},
   "outputs": [
    {
     "name": "stdout",
     "output_type": "stream",
     "text": [
      "Total collected article URLs for today: 1\n",
      " (1/1) Crawled: https://www.donga.com/news/Economy/article/all/20250827/132263874/1 | 1205자 추출\n"
     ]
    }
   ],
   "source": [
    "filtered_links = []\n",
    "for link in article_links:\n",
    "    match = re.search(r'/(\\d{8})/', link)  # /YYYYMMDD/ 추출\n",
    "    if match and match.group(1) == today_str:\n",
    "        filtered_links.append(link)\n",
    "\n",
    "article_links = filtered_links\n",
    "print(f\"Total collected article URLs for today: {len(article_links)}\")\n",
    "\n",
    "# 본문 수집\n",
    "article = {}\n",
    "for i, url in enumerate(article_links):\n",
    "    try:\n",
    "        driver.get(url)\n",
    "        time.sleep(2)\n",
    "        section = driver.find_element(By.CSS_SELECTOR, 'section.news_view')\n",
    "        driver.execute_script(\"\"\"\n",
    "            const section = arguments[0];\n",
    "            const tags = section.querySelectorAll('script, style, iframe, div.a1, div.view_ad06, div.view_m_adA, div.view_m_adB');\n",
    "            tags.forEach(tag => tag.remove());\n",
    "        \"\"\", section)\n",
    "        full_text = section.get_attribute('innerText').strip()\n",
    "        if not full_text:\n",
    "            full_text = \"본문 없음\"\n",
    "            print(f\" ({i+1}/{len(article_links)}) Crawled: {url} | 본문 없음\")\n",
    "        else:\n",
    "            print(f\" ({i+1}/{len(article_links)}) Crawled: {url} | {len(full_text)}자 추출\")\n",
    "    except Exception as e:\n",
    "        full_text = \"접근 실패\"\n",
    "        print(f\" ({i+1}/{len(article_links)}) URL 접근 실패: {url} | 에러: {e}\")\n",
    "\n",
    "    # URL에서 날짜 추출\n",
    "    match = re.search(r'/all/(\\d{8})/', url)\n",
    "    date = f\"{match.group(1)[:4]}-{match.group(1)[4:6]}-{match.group(1)[6:]}\" if match else \"Unknown\"\n",
    "\n",
    "    article[url] = {\n",
    "        'date': date,\n",
    "        'content': full_text,\n",
    "        'publisher' : '동아일보'\n",
    "    }\n",
    "\n",
    "driver.quit()\n",
    "# DataFrame 변환\n",
    "df = pd.DataFrame([\n",
    "    {\"url\": url, \"date\": data[\"date\"], \"content\": data[\"content\"], \"publisher\": \"중앙일보\"}\n",
    "    for url, data in article.items()\n",
    "])"
   ]
  },
  {
   "cell_type": "code",
   "execution_count": null,
   "id": "bafa63cb-453b-48fb-9e92-c37bb0e6ed8c",
   "metadata": {},
   "outputs": [],
   "source": []
  }
 ],
 "metadata": {
  "kernelspec": {
   "display_name": "Python 3 (ipykernel)",
   "language": "python",
   "name": "python3"
  },
  "language_info": {
   "codemirror_mode": {
    "name": "ipython",
    "version": 3
   },
   "file_extension": ".py",
   "mimetype": "text/x-python",
   "name": "python",
   "nbconvert_exporter": "python",
   "pygments_lexer": "ipython3",
   "version": "3.11.13"
  }
 },
 "nbformat": 4,
 "nbformat_minor": 5
}
