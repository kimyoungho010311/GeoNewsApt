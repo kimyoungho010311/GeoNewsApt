{
 "cells": [
  {
   "cell_type": "code",
   "execution_count": 3,
   "id": "48a69b1c-1112-4f08-ae90-33ce8565f29e",
   "metadata": {},
   "outputs": [
    {
     "data": {
      "text/plain": [
       "{'ResponseMetadata': {'RequestId': '50F705PM4NXEFAMC',\n",
       "  'HostId': 'L+K4AaQEnGYrjNY4c9wugXDAcVg8uG3mavW+DBkOjPqLkoxQurHxsNCxow0RYObKYzd4mLkhqYI=',\n",
       "  'HTTPStatusCode': 200,\n",
       "  'HTTPHeaders': {'x-amz-id-2': 'L+K4AaQEnGYrjNY4c9wugXDAcVg8uG3mavW+DBkOjPqLkoxQurHxsNCxow0RYObKYzd4mLkhqYI=',\n",
       "   'x-amz-request-id': '50F705PM4NXEFAMC',\n",
       "   'date': 'Thu, 21 Aug 2025 05:38:05 GMT',\n",
       "   'x-amz-server-side-encryption': 'AES256',\n",
       "   'etag': '\"3c1c58467ab4b8633ed8398f4a9dc9ac\"',\n",
       "   'x-amz-checksum-crc32': 'KMtoPQ==',\n",
       "   'x-amz-checksum-type': 'FULL_OBJECT',\n",
       "   'content-length': '0',\n",
       "   'server': 'AmazonS3'},\n",
       "  'RetryAttempts': 0},\n",
       " 'ETag': '\"3c1c58467ab4b8633ed8398f4a9dc9ac\"',\n",
       " 'ChecksumCRC32': 'KMtoPQ==',\n",
       " 'ChecksumType': 'FULL_OBJECT',\n",
       " 'ServerSideEncryption': 'AES256'}"
      ]
     },
     "execution_count": 3,
     "metadata": {},
     "output_type": "execute_result"
    }
   ],
   "source": [
    "import boto3\n",
    "import pandas as pd\n",
    "from io import StringIO\n",
    "\n",
    "# 예시 데이터프레임\n",
    "df = pd.DataFrame({\n",
    "    'date': ['2025-08-21', '2025-08-22'],\n",
    "    'value': [100, 200]\n",
    "})\n",
    "\n",
    "# DataFrame → CSV 메모리 버퍼\n",
    "csv_buffer = StringIO()\n",
    "df.to_csv(csv_buffer, index=False)\n",
    "\n",
    "# S3 클라이언트\n",
    "s3 = boto3.client('s3')\n",
    "\n",
    "# 업로드\n",
    "bucket_name = \"ian-geonewsapt\"\n",
    "object_key = \"data/example.csv\"\n",
    "\n",
    "s3.put_object(\n",
    "    Bucket=bucket_name,\n",
    "    Key=object_key,\n",
    "    Body=csv_buffer.getvalue()\n",
    ")"
   ]
  },
  {
   "cell_type": "code",
   "execution_count": 4,
   "id": "02f6534c-72bf-46fb-87d7-ebf4b5fc5c5c",
   "metadata": {},
   "outputs": [
    {
     "name": "stdout",
     "output_type": "stream",
     "text": [
      "         date  value\n",
      "0  2025-08-21    100\n",
      "1  2025-08-22    200\n"
     ]
    }
   ],
   "source": [
    "\n",
    "# 오브젝트 가져오기\n",
    "response = s3.get_object(Bucket=bucket_name, Key=object_key)\n",
    "\n",
    "# response[\"Body\"]는 스트리밍 객체라 read() 필요\n",
    "data = response['Body'].read().decode('utf-8')\n",
    "\n",
    "# DataFrame으로 변환\n",
    "df = pd.read_csv(StringIO(data))\n",
    "\n",
    "print(df)"
   ]
  },
  {
   "cell_type": "code",
   "execution_count": 5,
   "id": "ca95f2f8-fc13-42f1-a32f-c2a4e8aca597",
   "metadata": {},
   "outputs": [
    {
     "data": {
      "text/plain": [
       "{'ResponseMetadata': {'RequestId': 'SBHNPAVQEGJXN9BH',\n",
       "  'HostId': 'yqqQhhY6PZzkl0vajV1NfgR2HGYM1ObAXaLxW3lhoFWa4YwoVWo9q5HskeYMMEG7ujyvqbk98eZEOuFV8lknWr3jvQ5kT7nksGNJ3uyWXdc=',\n",
       "  'HTTPStatusCode': 204,\n",
       "  'HTTPHeaders': {'x-amz-id-2': 'yqqQhhY6PZzkl0vajV1NfgR2HGYM1ObAXaLxW3lhoFWa4YwoVWo9q5HskeYMMEG7ujyvqbk98eZEOuFV8lknWr3jvQ5kT7nksGNJ3uyWXdc=',\n",
       "   'x-amz-request-id': 'SBHNPAVQEGJXN9BH',\n",
       "   'date': 'Thu, 21 Aug 2025 05:40:43 GMT',\n",
       "   'server': 'AmazonS3'},\n",
       "  'RetryAttempts': 0}}"
      ]
     },
     "execution_count": 5,
     "metadata": {},
     "output_type": "execute_result"
    }
   ],
   "source": [
    "# 객체 삭제\n",
    "s3.delete_object(Bucket=bucket_name, Key=object_key)"
   ]
  },
  {
   "cell_type": "code",
   "execution_count": null,
   "id": "a44e22bc-2d9c-42f3-bdec-928b80d43a40",
   "metadata": {},
   "outputs": [],
   "source": []
  }
 ],
 "metadata": {
  "kernelspec": {
   "display_name": "Python 3 (ipykernel)",
   "language": "python",
   "name": "python3"
  },
  "language_info": {
   "codemirror_mode": {
    "name": "ipython",
    "version": 3
   },
   "file_extension": ".py",
   "mimetype": "text/x-python",
   "name": "python",
   "nbconvert_exporter": "python",
   "pygments_lexer": "ipython3",
   "version": "3.11.13"
  }
 },
 "nbformat": 4,
 "nbformat_minor": 5
}
